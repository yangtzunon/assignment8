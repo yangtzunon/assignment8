{
 "cells": [
  {
   "cell_type": "markdown",
   "metadata": {},
   "source": [
    "# Interesting Math Problem using Python\n",
    "\n",
    "You can also create content with Jupyter Notebooks. This means that you can include\n",
    "code blocks and their outputs in your book.\n"
   ]
  },
  {
   "cell_type": "markdown",
   "metadata": {},
   "source": [
    "To illustrate a few python math exercise, here is the first example:"
   ]
  },
  {
   "cell_type": "markdown",
   "metadata": {},
   "source": [
    "**Question 1**: Write a Python program to calculate arc length of an angle."
   ]
  },
  {
   "cell_type": "markdown",
   "metadata": {},
   "source": [
    "Note: In a planar geometry, an angle is the figure formed by two rays, called the sides of the angle, sharing a common endpoint, called the vertex of the angle. Angles formed by two rays lie in a plane, but this plane does not have to be a Euclidean plane.\n",
    "\n",
    "### Code\n",
    "The code that we will be using is\n",
    "````python\n",
    "def arclength():\n",
    "    pi=22/7\n",
    "    diameter = float(input('Diameter of circle: '))\n",
    "    angle = float(input('angle measure: '))\n",
    "    if angle >= 360:\n",
    "        print(\"Angle is not possible\")\n",
    "        return\n",
    "    arc_length = (pi*diameter) * (angle/360)\n",
    "    print(\"Arc Length is: \", arc_length)\n",
    "\n",
    "arclength()\n",
    "````\n",
    "### Test Data\n",
    "Diameter of a circle : 8\\\n",
    "Angle measure : 45\\\n",
    "Expected Output :\\\n",
    "Arc Length is : 3.142857142857143\\\n"
   ]
  },
  {
   "cell_type": "code",
   "execution_count": 1,
   "metadata": {},
   "outputs": [
    {
     "name": "stdin",
     "output_type": "stream",
     "text": [
      "Diameter of circle:  8\n",
      "angle measure:  45\n"
     ]
    },
    {
     "name": "stdout",
     "output_type": "stream",
     "text": [
      "Arc Length is:  3.142857142857143\n"
     ]
    }
   ],
   "source": [
    "#python code \n",
    "def arclength():\n",
    "    pi=22/7\n",
    "    diameter = float(input('Diameter of circle: '))\n",
    "    angle = float(input('angle measure: '))\n",
    "    if angle >= 360:\n",
    "        print(\"Angle is not possible\")\n",
    "        return\n",
    "    arc_length = (pi*diameter) * (angle/360)\n",
    "    print(\"Arc Length is: \", arc_length)\n",
    "\n",
    "arclength()"
   ]
  },
  {
   "cell_type": "markdown",
   "metadata": {},
   "source": [
    "Next, I will test out how to find the arclength for other input\n",
    "\n",
    "**Test Data**\n",
    "\n",
    "Diameter of a circle : 10\\\n",
    "Angle measure : 50"
   ]
  },
  {
   "cell_type": "code",
   "execution_count": 2,
   "metadata": {},
   "outputs": [
    {
     "name": "stdin",
     "output_type": "stream",
     "text": [
      "Diameter of circle:  10\n",
      "angle measure:  50\n"
     ]
    },
    {
     "name": "stdout",
     "output_type": "stream",
     "text": [
      "Arc Length is:  4.365079365079365\n"
     ]
    }
   ],
   "source": [
    "arclength()"
   ]
  },
  {
   "cell_type": "markdown",
   "metadata": {},
   "source": [
    "The arc length is around 4.36"
   ]
  },
  {
   "cell_type": "markdown",
   "metadata": {},
   "source": [
    "### The math equation for arc length  = 2 $\\pi$ r ($\\frac{\\theta}{360}$)"
   ]
  },
  {
   "cell_type": "markdown",
   "metadata": {},
   "source": [
    "**Pictorial Presentation** from [w3resource](https://www.w3resource.com/python-exercises/math/)\n"
   ]
  },
  {
   "cell_type": "markdown",
   "metadata": {},
   "source": [
    "![Pictorial Presentation from w3resource](images/python-math-image-exercise-7.svg)"
   ]
  },
  {
   "cell_type": "markdown",
   "metadata": {},
   "source": [
    "**Flowchart Presentation** from [w3resource](https://www.w3resource.com/python-exercises/math/)"
   ]
  },
  {
   "cell_type": "markdown",
   "metadata": {},
   "source": [
    "![Flowchart Presentation from w3resource](images/python-math-exercise-7.png)"
   ]
  },
  {
   "cell_type": "markdown",
   "metadata": {},
   "source": [
    "**Question 2**: Write a Python program to calculate the area of a sector."
   ]
  },
  {
   "cell_type": "markdown",
   "metadata": {},
   "source": [
    "Note: A circular sector or circle sector, is the portion of a disk enclosed by two radii and an arc, where the smaller area is known as the minor sector and the larger being the major sector."
   ]
  },
  {
   "cell_type": "markdown",
   "metadata": {},
   "source": [
    "### Code\n",
    "The code that we will be using is\n",
    "````python\n",
    "def sectorarea():\n",
    "    pi=22/7\n",
    "    radius = float(input('Radius of Circle: '))\n",
    "    angle = float(input('angle measure: '))\n",
    "    if angle >= 360:\n",
    "        print(\"Angle is not possible\")\n",
    "        return\n",
    "    sur_area = (pi*radius**2) * (angle/360)\n",
    "    print(\"Sector Area: \", sur_area)\n",
    "\n",
    "sectorarea()\n",
    "````\n",
    "\n",
    "### Test Data\n",
    "Radius of Circle: 4                                                                                         \n",
    "angle measure: 45                                                                                        \n",
    "Sector Area:  6.285714285714286\n",
    "\n"
   ]
  },
  {
   "cell_type": "code",
   "execution_count": 3,
   "metadata": {},
   "outputs": [
    {
     "name": "stdin",
     "output_type": "stream",
     "text": [
      "Radius of Circle:  4\n",
      "angle measure:  45\n"
     ]
    },
    {
     "name": "stdout",
     "output_type": "stream",
     "text": [
      "Sector Area:  6.285714285714286\n"
     ]
    }
   ],
   "source": [
    "#python code\n",
    "def sectorarea():\n",
    "    pi=22/7\n",
    "    radius = float(input('Radius of Circle: '))\n",
    "    angle = float(input('angle measure: '))\n",
    "    if angle >= 360:\n",
    "        print(\"Angle is not possible\")\n",
    "        return\n",
    "    sur_area = (pi*radius**2) * (angle/360)\n",
    "    print(\"Sector Area: \", sur_area)\n",
    "\n",
    "sectorarea()"
   ]
  },
  {
   "cell_type": "markdown",
   "metadata": {},
   "source": [
    "Next, I will test out how to find the sector area for other input\n",
    "\n",
    "**Test Data**\\\n",
    "Radius of Circle: 7\\\n",
    "angle measure: 50"
   ]
  },
  {
   "cell_type": "code",
   "execution_count": 4,
   "metadata": {},
   "outputs": [
    {
     "name": "stdin",
     "output_type": "stream",
     "text": [
      "Radius of Circle:  7\n",
      "angle measure:  50\n"
     ]
    },
    {
     "name": "stdout",
     "output_type": "stream",
     "text": [
      "Sector Area:  21.38888888888889\n"
     ]
    }
   ],
   "source": [
    "sectorarea()"
   ]
  },
  {
   "cell_type": "markdown",
   "metadata": {},
   "source": [
    "The sector area is around 21.38"
   ]
  },
  {
   "cell_type": "markdown",
   "metadata": {},
   "source": [
    "### The math equation for area of sector  = $\\frac{\\theta}{360}$ x $\\pi$ $r^2$"
   ]
  },
  {
   "cell_type": "markdown",
   "metadata": {},
   "source": [
    "**Pictorial Presentation** from [w3resource](https://www.w3resource.com/python-exercises/math/)\n"
   ]
  },
  {
   "cell_type": "markdown",
   "metadata": {},
   "source": [
    "![Pictorial Presentation from w3resource](images/python-math-image-exercise-8.svg)"
   ]
  },
  {
   "cell_type": "markdown",
   "metadata": {},
   "source": [
    "**Flowchart Presentation** from [w3resource](https://www.w3resource.com/python-exercises/math/)"
   ]
  },
  {
   "cell_type": "markdown",
   "metadata": {},
   "source": [
    "![Flowchart Presentation from w3resource](images/python-math-exercise-8.png)"
   ]
  },
  {
   "cell_type": "markdown",
   "metadata": {},
   "source": [
    "## Resource\n",
    "The two math questions, codes, and images are retrieved from [w3resource](https://www.w3resource.com/python-exercises/math/)"
   ]
  },
  {
   "cell_type": "code",
   "execution_count": null,
   "metadata": {},
   "outputs": [],
   "source": []
  }
 ],
 "metadata": {
  "kernelspec": {
   "display_name": "Python 3 (ipykernel)",
   "language": "python",
   "name": "python3"
  },
  "language_info": {
   "codemirror_mode": {
    "name": "ipython",
    "version": 3
   },
   "file_extension": ".py",
   "mimetype": "text/x-python",
   "name": "python",
   "nbconvert_exporter": "python",
   "pygments_lexer": "ipython3",
   "version": "3.9.12"
  },
  "widgets": {
   "application/vnd.jupyter.widget-state+json": {
    "state": {},
    "version_major": 2,
    "version_minor": 0
   }
  }
 },
 "nbformat": 4,
 "nbformat_minor": 4
}
